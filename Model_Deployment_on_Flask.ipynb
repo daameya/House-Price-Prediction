{
 "cells": [
  {
   "cell_type": "code",
   "execution_count": 34,
   "metadata": {},
   "outputs": [],
   "source": [
    "import numpy as np\n",
    "import pandas as pd\n",
    "from sklearn.model_selection import train_test_split\n",
    "from sklearn.preprocessing import LabelEncoder\n",
    "from sklearn.linear_model import LinearRegression\n",
    "from sklearn.tree import DecisionTreeRegressor\n",
    "from flask import Flask, request, jsonify, render_template\n",
    "import pickle\n",
    "import json"
   ]
  },
  {
   "cell_type": "code",
   "execution_count": 28,
   "metadata": {},
   "outputs": [
    {
     "data": {
      "text/html": [
       "<div>\n",
       "<style scoped>\n",
       "    .dataframe tbody tr th:only-of-type {\n",
       "        vertical-align: middle;\n",
       "    }\n",
       "\n",
       "    .dataframe tbody tr th {\n",
       "        vertical-align: top;\n",
       "    }\n",
       "\n",
       "    .dataframe thead th {\n",
       "        text-align: right;\n",
       "    }\n",
       "</style>\n",
       "<table border=\"1\" class=\"dataframe\">\n",
       "  <thead>\n",
       "    <tr style=\"text-align: right;\">\n",
       "      <th></th>\n",
       "      <th>area</th>\n",
       "      <th>bedrooms</th>\n",
       "      <th>bathrooms</th>\n",
       "      <th>stories</th>\n",
       "      <th>parking</th>\n",
       "      <th>price</th>\n",
       "    </tr>\n",
       "  </thead>\n",
       "  <tbody>\n",
       "    <tr>\n",
       "      <th>0</th>\n",
       "      <td>7420</td>\n",
       "      <td>4</td>\n",
       "      <td>2</td>\n",
       "      <td>3</td>\n",
       "      <td>2</td>\n",
       "      <td>13300000</td>\n",
       "    </tr>\n",
       "    <tr>\n",
       "      <th>1</th>\n",
       "      <td>8960</td>\n",
       "      <td>4</td>\n",
       "      <td>4</td>\n",
       "      <td>4</td>\n",
       "      <td>3</td>\n",
       "      <td>12250000</td>\n",
       "    </tr>\n",
       "  </tbody>\n",
       "</table>\n",
       "</div>"
      ],
      "text/plain": [
       "   area  bedrooms  bathrooms  stories  parking     price\n",
       "0  7420         4          2        3        2  13300000\n",
       "1  8960         4          4        4        3  12250000"
      ]
     },
     "execution_count": 28,
     "metadata": {},
     "output_type": "execute_result"
    }
   ],
   "source": [
    "house_data = pd.read_excel('Housing.xlsx')\n",
    "house_data.head(2)"
   ]
  },
  {
   "cell_type": "code",
   "execution_count": 32,
   "metadata": {},
   "outputs": [],
   "source": [
    "X = house_data.iloc[:, :-1].values\n",
    "y = house_data.iloc[:, -1].values"
   ]
  },
  {
   "cell_type": "code",
   "execution_count": 36,
   "metadata": {},
   "outputs": [],
   "source": [
    "X_train, X_test, y_train, y_test = train_test_split(X, y, test_size = 0.30, random_state = 100)"
   ]
  },
  {
   "cell_type": "code",
   "execution_count": 37,
   "metadata": {},
   "outputs": [
    {
     "name": "stdout",
     "output_type": "stream",
     "text": [
      "[ 3497214.39407962  6213987.9526125   5893284.33202527  4354362.46736628\n",
      "  4397346.97674725  3487897.23085616  6892208.27574805  6261084.80126419\n",
      "  4186135.03075176  4898884.93595328  3778638.40574662  4603801.17301853\n",
      "  4942692.703295    8081574.09332096  4289725.07167581  7449146.5786968\n",
      "  7545008.59920112  4032954.60781737  4786449.40594931  3958234.23428483\n",
      "  4066304.50831093  3583575.26933262  3911839.96602107  3905102.8755758\n",
      "  3045271.58645403  2916220.97955042  4873902.76588433  5838729.55032927\n",
      "  6772562.0289583   5397325.15489955  3015117.14223621  3974969.05787874\n",
      "  3465990.13311337  3079219.62955247  4723239.83896831  4256001.21305469\n",
      "  5069381.3576015   3361432.76102698  3072545.11586704  4066304.50831093\n",
      "  3040928.99840974  6255129.10775645  5766987.17036221  3328595.10097405\n",
      "  2953936.13602184  4209503.80173402  4417594.70228087  5197929.60593478\n",
      "  3378167.58462089  6572798.65638657  2819616.17620868  6858518.26165694\n",
      "  5310309.91820129  6606003.55279999  6536552.82580023  3834844.83678181\n",
      "  4534142.57155556  3216574.09539472  3026877.39065095  4555427.56403373\n",
      "  3082691.96519509  3592062.7464515   6211304.73677738  6624375.37429271\n",
      "  4032834.8611231   4578301.99293886  6992782.07285411  3378167.58462089\n",
      "  3065127.45549659  4728389.44518359  3251103.67746069  5716585.00061078\n",
      "  4276479.18736187  4031175.48891393  4814575.28940049  4627377.52484076\n",
      "  7967755.70662709  8786732.23799446  9944376.77263182  4796388.67443738\n",
      "  8007467.44471221  2655339.47114739  2793269.41166094  3944182.62652603\n",
      "  4321916.6638044   3375484.36878577  4020636.78309483  6053320.93462836\n",
      "  5203166.40904045  3753472.61749743  4809283.26855735  4206820.5858989\n",
      "  3482355.76814983  4850774.41916915  5434044.90544964  3076058.01780674\n",
      "  4241949.6052959   3767707.84343647  5870322.70622974  3500630.21725864\n",
      "  3234968.2911978   6471259.48031514  4367879.16675086  8841868.85228122\n",
      "  4168570.52105326  4634195.74788019  3574498.23675301  3640413.68750271\n",
      "  3366407.33620616  5113771.39160597  7055240.77028011  4799693.99553711\n",
      "  4225606.63819303  4880329.13243271  3149828.95854043 11698615.19968705\n",
      "  4868467.69315803  4844555.63346074  3213763.77384296  6185700.75506705\n",
      "  7732861.65608464  3897085.77787433  4540689.61567674  4686866.60904209\n",
      "  6491737.45462231  5268793.14635602  3539761.07384706  3697449.80464249\n",
      "  5708130.07329578  6202227.70419776  4634195.74788019  3862948.05229941\n",
      "  3244285.45442126  5341510.58035541  3813398.23658616  5594025.28921235\n",
      " 11132696.37226842  3539369.21735601  4335871.19280252  6037743.4182965\n",
      "  4023550.24770351  3890659.41132595  3320739.61099006  6278233.85565952\n",
      "  3335413.32401347  4574972.7091794   3346654.61022051  3799858.86926798\n",
      "  8037414.30809006  4908801.53650777  4012781.29311085  7675130.97505013\n",
      "  3322790.83969028  5165059.39607797  5232380.37145116  3193348.37629562\n",
      "  3837988.55016406  5499591.16764188  4208904.364403    4475700.9297923\n",
      "  6244303.71092457  4072795.40381611  7244338.03769285  7750195.91700957]\n"
     ]
    }
   ],
   "source": [
    "regressor = LinearRegression()\n",
    "regressor.fit(X_train, y_train)\n",
    "y_pred = regressor.predict(X_test)\n",
    "print(y_pred)"
   ]
  },
  {
   "cell_type": "code",
   "execution_count": 38,
   "metadata": {},
   "outputs": [],
   "source": [
    "#saving the model in disk\n",
    "pickle.dump(regressor, open('model.pkl','wb'))"
   ]
  },
  {
   "cell_type": "code",
   "execution_count": 40,
   "metadata": {},
   "outputs": [
    {
     "name": "stdout",
     "output_type": "stream",
     "text": [
      "[8506530.06254632]\n"
     ]
    }
   ],
   "source": [
    "model = pickle.load(open('model.pkl','rb'))\n",
    "print(model.predict([[7420,4,3,2,2]]))"
   ]
  },
  {
   "cell_type": "code",
   "execution_count": 11,
   "metadata": {},
   "outputs": [],
   "source": [
    "# Model Deployment\n",
    "app = Flask(__name__)\n",
    "model = pickle.load(open('model.pkl','rb'))"
   ]
  },
  {
   "cell_type": "code",
   "execution_count": 12,
   "metadata": {},
   "outputs": [],
   "source": [
    "@app.route(\"/\")\n",
    "def home():\n",
    "    return render_template(\"index.html\")"
   ]
  },
  {
   "cell_type": "code",
   "execution_count": 13,
   "metadata": {},
   "outputs": [],
   "source": [
    "@app.route('/predict',methods=['POST'])\n",
    "def predict():\n",
    "    data = request.get_json(force=True)\n",
    "    prediction = model.predict([[np.array(data['exp'])]])\n",
    "    output = prediction[0]\n",
    "    return jsonify(output)"
   ]
  },
  {
   "cell_type": "code",
   "execution_count": 14,
   "metadata": {},
   "outputs": [
    {
     "name": "stdout",
     "output_type": "stream",
     "text": [
      " * Serving Flask app '__main__'\n",
      " * Debug mode: off\n"
     ]
    },
    {
     "name": "stderr",
     "output_type": "stream",
     "text": [
      "WARNING: This is a development server. Do not use it in a production deployment. Use a production WSGI server instead.\n",
      " * Running on http://127.0.0.1:5000\n",
      "Press CTRL+C to quit\n"
     ]
    }
   ],
   "source": [
    "if __name__ == '__main__':\n",
    "    app.run(port=5000)"
   ]
  }
 ],
 "metadata": {
  "kernelspec": {
   "display_name": "base",
   "language": "python",
   "name": "python3"
  },
  "language_info": {
   "codemirror_mode": {
    "name": "ipython",
    "version": 3
   },
   "file_extension": ".py",
   "mimetype": "text/x-python",
   "name": "python",
   "nbconvert_exporter": "python",
   "pygments_lexer": "ipython3",
   "version": "3.10.9"
  },
  "orig_nbformat": 4
 },
 "nbformat": 4,
 "nbformat_minor": 2
}
