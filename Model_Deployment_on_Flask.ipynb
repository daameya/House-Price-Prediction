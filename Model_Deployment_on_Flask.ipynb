{
 "cells": [
  {
   "cell_type": "code",
   "execution_count": 5,
   "metadata": {},
   "outputs": [],
   "source": [
    "import numpy as np\n",
    "import pandas as pd\n",
    "from sklearn.model_selection import train_test_split\n",
    "from sklearn.preprocessing import LabelEncoder\n",
    "from sklearn.linear_model import LinearRegression\n",
    "from sklearn.tree import DecisionTreeRegressor\n",
    "from flask import Flask, request, jsonify, render_template\n",
    "import pickle\n",
    "import json"
   ]
  },
  {
   "cell_type": "code",
   "execution_count": 6,
   "metadata": {},
   "outputs": [],
   "source": [
    "house_data = pd.read_excel('Housing.xlsx')\n",
    "X = house_data.iloc[:, :-1].values\n",
    "y = house_data.iloc[:, 1].values"
   ]
  },
  {
   "cell_type": "code",
   "execution_count": 7,
   "metadata": {},
   "outputs": [],
   "source": [
    "X_train, X_test, y_train, y_test = train_test_split(X, y, test_size = 0.30, random_state = 100)"
   ]
  },
  {
   "cell_type": "code",
   "execution_count": 8,
   "metadata": {},
   "outputs": [
    {
     "name": "stdout",
     "output_type": "stream",
     "text": [
      "[3706048.26680575 5171689.81131589 7177082.04000621 4852255.11571753\n",
      " 4678445.06075959 4382498.21042581 5425358.54017342 5425358.54017342\n",
      " 5547495.33554926 5425358.54017342 5002577.32541088 5030762.73972838\n",
      " 3662360.87461362 9681356.10211634 4765819.84514385 4424776.33190207\n",
      " 5876325.16925346 4267407.76862935 5430056.10922633 4091248.92914495\n",
      " 4467054.45337832 4279151.69126164 3838519.71409801 5171689.81131589\n",
      " 3790604.50975826 3849324.12291972 4471752.02243124 4936811.35867004\n",
      " 5763583.51198345 5171689.81131589 3292662.19014904 4344917.65800248\n",
      " 4584493.67970125 4067291.32697508 5190480.08752756 4720723.18223585\n",
      " 4063063.51482745 4213385.7245208  4058365.94577453 4467054.45337832\n",
      " 4016087.82429828 3903346.16702827 5453543.95449092 3480564.95226573\n",
      " 3668467.71438241 4889835.66814086 4936811.35867004 4044273.23861578\n",
      " 4467054.45337832 6285953.19066784 3720140.9739645  5077738.43025755\n",
      " 4842859.97761169 5641446.71660761 5336104.72816799 5077738.43025755\n",
      " 5359592.57343258 4250966.27694414 3997297.54808661 4889835.66814086\n",
      " 3151735.11856153 3832882.63123451 4936811.35867004 5453543.95449092\n",
      " 3959716.99566327 5840623.64445129 7727167.37610281 4467054.45337832\n",
      " 3128247.27329694 4889835.66814086 3875160.75271076 4697235.33697126\n",
      " 4326127.38179081 4420078.76284915 5312616.88290341 3875160.75271076\n",
      " 7285595.8851286  6580960.52719103 6383662.62696851 5021367.60162254\n",
      " 5960881.41220597 3269174.34488446 3684909.20606762 4072458.65293328\n",
      " 5040157.87783421 4232176.00073247 4405986.0556904  5324360.8055357\n",
      " 4699584.12149772 4737634.43082635 5460590.3080703  4654957.21549501\n",
      " 3762419.09544075 3846975.33839326 6984951.4657419  4063063.51482745\n",
      " 4701932.90602418 4067761.08388037 5270338.76142715 3248035.28414633\n",
      " 4044273.23861578 5284431.4685859  5559239.25818156 8032509.36454242\n",
      " 5524007.49028468 4382498.21042581 3809394.78596993 4128829.48156829\n",
      " 3762419.09544075 6134691.4671639  5340802.29722091 5524007.49028468\n",
      " 5368987.71153841 4058365.94577453 4161712.46493871 6562170.25097936\n",
      " 6228642.84822225 3762419.09544075 4247208.2217018  3579213.90237699\n",
      " 5171689.81131589 3818789.92407576 3356079.37236342 4607981.52496584\n",
      " 4889835.66814086 3676453.58177237 4683142.62981251 3973809.70282202\n",
      " 4495239.86769583 4467054.45337832 4382498.21042581 5115318.98268089\n",
      " 3367823.29499571 6017252.24084098 3973809.70282202 5453543.95449092\n",
      " 9963210.24529136 3762419.09544075 4596237.60233354 4514030.14390749\n",
      " 3987902.40998078 4232176.00073247 3701350.69775283 6580960.52719103\n",
      " 3987902.40998078 5147262.45224072 4002934.63095011 3421845.33910426\n",
      " 6956766.0514244  5171689.81131589 4626771.80117751 6894288.3830206\n",
      " 4161712.46493871 3959716.99566327 6524589.69855603 3299708.54372842\n",
      " 4006692.68619244 6228642.84822225 4467054.45337832 3269174.34488446\n",
      " 7379547.26618694 5164643.45773652 5171689.81131589 5848139.75493596]\n"
     ]
    }
   ],
   "source": [
    "regressor = LinearRegression()\n",
    "regressor.fit(X_train, y_train)\n",
    "y_pred = regressor.predict(X_test)\n",
    "print(y_pred)"
   ]
  },
  {
   "cell_type": "code",
   "execution_count": 9,
   "metadata": {},
   "outputs": [],
   "source": [
    "#saving the model in disk\n",
    "pickle.dump(regressor, open('model.pkl','wb'))"
   ]
  },
  {
   "cell_type": "code",
   "execution_count": 10,
   "metadata": {},
   "outputs": [
    {
     "name": "stdout",
     "output_type": "stream",
     "text": [
      "[5838744.61683013]\n"
     ]
    }
   ],
   "source": [
    "model = pickle.load(open('model.pkl','rb'))\n",
    "print(model.predict([[7420]]))"
   ]
  },
  {
   "cell_type": "code",
   "execution_count": 11,
   "metadata": {},
   "outputs": [],
   "source": [
    "# Model Deployment\n",
    "app = Flask(__name__)\n",
    "model = pickle.load(open('model.pkl','rb'))"
   ]
  },
  {
   "cell_type": "code",
   "execution_count": 12,
   "metadata": {},
   "outputs": [],
   "source": [
    "@app.route(\"/\")\n",
    "def home():\n",
    "    return render_template(\"index.html\")"
   ]
  },
  {
   "cell_type": "code",
   "execution_count": 13,
   "metadata": {},
   "outputs": [],
   "source": [
    "@app.route('/',methods=['POST'])\n",
    "def predict():\n",
    "    data = request.get_json(force=True)\n",
    "    prediction = model.predict([[np.array(data['exp'])]])\n",
    "    output = prediction[0]\n",
    "    return jsonify(output)"
   ]
  },
  {
   "cell_type": "code",
   "execution_count": 14,
   "metadata": {},
   "outputs": [
    {
     "name": "stdout",
     "output_type": "stream",
     "text": [
      " * Serving Flask app '__main__'\n",
      " * Debug mode: off\n"
     ]
    },
    {
     "name": "stderr",
     "output_type": "stream",
     "text": [
      "WARNING: This is a development server. Do not use it in a production deployment. Use a production WSGI server instead.\n",
      " * Running on http://127.0.0.1:5000\n",
      "Press CTRL+C to quit\n"
     ]
    }
   ],
   "source": [
    "if __name__ == '__main__':\n",
    "    app.run(port=5000)"
   ]
  }
 ],
 "metadata": {
  "kernelspec": {
   "display_name": "base",
   "language": "python",
   "name": "python3"
  },
  "language_info": {
   "codemirror_mode": {
    "name": "ipython",
    "version": 3
   },
   "file_extension": ".py",
   "mimetype": "text/x-python",
   "name": "python",
   "nbconvert_exporter": "python",
   "pygments_lexer": "ipython3",
   "version": "3.10.9"
  },
  "orig_nbformat": 4
 },
 "nbformat": 4,
 "nbformat_minor": 2
}
